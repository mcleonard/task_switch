{
 "metadata": {
  "name": "Task switching simulation"
 },
 "nbformat": 3,
 "nbformat_minor": 0,
 "worksheets": [
  {
   "cells": [
    {
     "cell_type": "code",
     "collapsed": false,
     "input": [
      "%pylab inline"
     ],
     "language": "python",
     "metadata": {},
     "outputs": [
      {
       "output_type": "stream",
       "stream": "stdout",
       "text": [
        "\n",
        "Welcome to pylab, a matplotlib-based Python environment [backend: module://IPython.zmq.pylab.backend_inline].\n",
        "For more information, type 'help(pylab)'.\n"
       ]
      }
     ],
     "prompt_number": 1
    },
    {
     "cell_type": "markdown",
     "metadata": {},
     "source": [
      "<h2> Task switching model </h2>\n",
      "\n",
      "This notebook is going to detail the task switching model I'm developing.  The idea behind the model is that responses to stimuli are stored as patterns in a Hopfield network.  The model is going to simulate the Stroop test, a psychology experiment were subjects are asked read colored words.  The words are colors, i.e. \"red\", \"blue\", \"green\", and printed in a color that may or may not match the word, so the word \"red\" colored blue.  Many experiments have shown that humans take longer to identify the color of a word when it conflicts with the color described by the word than when the word and the color are the same.  \n",
      "\n",
      "<h3> Hopfield networks </h3>\n",
      "\n",
      "Hopfield networks consist of binary units, each unit connected to all the others, but not to itself.  A four unit network looks like:\n",
      "\n",
      "<img src=\"https://upload.wikimedia.org/wikipedia/commons/9/95/Hopfield-net.png\" height=200px>\n",
      "\n",
      "The connection strengths between units are known as \"weights\", $w_{ij} $is the connection strength between units $s_i$ and $s_j$.  The energy of the Hopfield network is given by the weights between the units and the states of the units:\n",
      "\n",
      "$$\n",
      "E = -\\sum w_{ij} s_i s_j\n",
      "$$\n",
      "\n",
      "and the energy of flipping one unit $s_i$ is \n",
      "\n",
      "$$\n",
      "\\Delta E_i = \\sum_{i \\neq j} w_{ij} s_j\n",
      "$$\n",
      "\n",
      "One can store patterns of on and off units in the weights, that is, a stored pattern will be a minimum in the energy of the network.  For this reason, Hopfield networks are often used as models for associative memory.  The network can start at some initial state, then by changing the state of the units such that the energy decreases, it will eventually arrive at some energy minimum, a stored pattern.  \n",
      "\n",
      "However, the network isn't guaranteed to settle into a global minimum.  It could reach a local minimum which would be a spurious state that wasn't explicitly stored in the network.  We can avoid these spurious states by performing simulated annealing.  This method introduces noise to the network, then slowly lowers the noise level over time.  This allows the network to move out of local minima, then settle into a global minimum.  We implement this using stochastic units and a \"temperature\" which controls the amount of noise.  The probability of a unit being on is\n",
      "\n",
      "$$\n",
      "p \\left( s_i=+1 \\right) = \\frac{1}{1+e^{-\\Delta E_i/\\tau}}\n",
      "$$\n",
      "\n",
      "where $\\tau$ is the temperature."
     ]
    },
    {
     "cell_type": "markdown",
     "metadata": {},
     "source": [
      "<h2> The model </h2>\n",
      "\n",
      "The main idea of our model is that we can encode a task in the weights of a Hopfield network.  This way, when given the word \"green\" colored red will output \"GREEN\" if the weights are encoding word naming, or \"RED\" if the weights are encoding color naming.  When multiple tasks are being performed, the weights are a superposition between the task weight matrices, where the magnitude of the matrices vary with time."
     ]
    },
    {
     "cell_type": "code",
     "collapsed": false,
     "input": [
      "import simulate as sim"
     ],
     "language": "python",
     "metadata": {},
     "outputs": [],
     "prompt_number": 2
    },
    {
     "cell_type": "code",
     "collapsed": false,
     "input": [
      "net = sim.Sim.network\n",
      "net.shape = (4,4)\n",
      "net.W = sim.constants.W_wrd  # Weight matrix encoding the word naming task"
     ],
     "language": "python",
     "metadata": {},
     "outputs": [],
     "prompt_number": 3
    },
    {
     "cell_type": "markdown",
     "metadata": {},
     "source": [
      "<h3> Exploring just one task </h3>\n",
      "\n",
      "We can set the input to the word 'green' colored red.  When we plot this, we see the initial state of the Hopfield network.  Then we let the Hopfield network run and eventually it settles in a state which is a local minimum of the global energy.  Each box is one unit in the network.  Units which are \"on\" are white, black units are \"off.\""
     ]
    },
    {
     "cell_type": "code",
     "collapsed": false,
     "input": [
      "net.state = sim.gen_stimulus('green', 'red')\n",
      "net.plot()\n",
      "print(\"This is the state 'word=green, color=red'\")"
     ],
     "language": "python",
     "metadata": {},
     "outputs": [
      {
       "output_type": "stream",
       "stream": "stdout",
       "text": [
        "This is the state 'word=green, color=red'\n"
       ]
      },
      {
       "output_type": "display_data",
       "png": "[encoded data removed]"
      }
     ],
     "prompt_number": 6
    },
    {
     "cell_type": "code",
     "collapsed": false,
     "input": [
      "net.run(n_iters=30, init_temp=0)\n",
      "net.plot()\n",
      "print(\"This is the state 'word=green'\")"
     ],
     "language": "python",
     "metadata": {},
     "outputs": [
      {
       "output_type": "stream",
       "stream": "stdout",
       "text": [
        "This is the state 'word=green'\n"
       ]
      },
      {
       "output_type": "display_data",
       "png": "[encoded data removed]"
      }
     ],
     "prompt_number": 9
    },
    {
     "cell_type": "markdown",
     "metadata": {},
     "source": [
      "Now let's see how the number of iterations and the initial temperature effect the network's ability to correctly identify words.  When the network finds a spurious state, the response is counted as -1, so we can drop to negative performance if there are a lot of spurious states."
     ]
    },
    {
     "cell_type": "code",
     "collapsed": false,
     "input": [
      "performance = []\n",
      "Ns = [3, 5, 10, 30, 50, 100, 200]\n",
      "for N in Ns:\n",
      "    for i in range(200):\n",
      "        net.state = sim.gen_stimulus('green', 'red')\n",
      "        net.run(n_iters=N, init_temp=0.25)\n",
      "        sim.response_outcome('word','green','red',net.state)\n",
      "    performance.append(sum(sim.Sim.outcome)/len(sim.Sim.outcome))\n",
      "    sim.reset_sim()\n",
      "plot(Ns, performance, marker='o')\n",
      "xlabel(\"Iterations\")\n",
      "ylabel(\"Performance\")"
     ],
     "language": "python",
     "metadata": {},
     "outputs": [
      {
       "output_type": "pyout",
       "prompt_number": 6,
       "text": [
        "<matplotlib.text.Text at 0x106567ad0>"
       ]
      },
      {
       "output_type": "display_data",
       "png": "[encoded data removed]"
      }
     ],
     "prompt_number": 6
    },
    {
     "cell_type": "code",
     "collapsed": false,
     "input": [
      "performance = []\n",
      "Ts = np.array([0, 0.25, 0.5, 0.75, 1, 2])\n",
      "for T in Ts:\n",
      "    for i in range(200):\n",
      "        net.state = sim.gen_stimulus('green', 'red')\n",
      "        net.run(n_iters=100, init_temp=T)\n",
      "        sim.response_outcome('word', 'green', 'red', net.state)\n",
      "    # Calculate and store the performance\n",
      "    performance.append(sum(sim.Sim.outcome)/len(sim.Sim.outcome))\n",
      "    sim.reset_sim()\n",
      "\n",
      "plot(Ts, performance, marker='o')\n",
      "xlabel(\"Initial temperature\")\n",
      "ylabel(\"Performance\")"
     ],
     "language": "python",
     "metadata": {},
     "outputs": [
      {
       "output_type": "pyout",
       "prompt_number": 7,
       "text": [
        "<matplotlib.text.Text at 0x1066356d0>"
       ]
      },
      {
       "output_type": "display_data",
       "png": "[encoded data removed]"
      }
     ],
     "prompt_number": 7
    },
    {
     "cell_type": "markdown",
     "metadata": {},
     "source": [
      "Even with only three states stored in the network, we don't have perfect performance recalling those patterns for higher temperatures.  I believe this is because a Hopfield network can stably hold `0.15*N` patterns where `N` is the number of units in the network.  Our network has `16` units, so it can reliably store 2-3 patterns.  When we have a low temperature, we're able to stay in the initial energy well, working our way down.  But it is reasonably easy to hop over to another low energy state since we are right at the limit of reliably storing states."
     ]
    },
    {
     "cell_type": "markdown",
     "metadata": {},
     "source": [
      "<h3> Accuracy as a function of task set magnitude </h3>\n",
      "\n",
      "Now, let's explore how well our model does when we play with the magnitude of our weight matrices.  We're going to set the weight matrix for the network like so:\n",
      "\n",
      "$$\n",
      "W_{net} = c W_{color} + (1-c) W_{word}\n",
      "$$\n",
      "\n",
      "then vary $c$ and measure the accuracy of the model to response correctly.  In this case, we'll be looking at how well the network finds correct color responses."
     ]
    },
    {
     "cell_type": "code",
     "collapsed": false,
     "input": [
      "# Set up some stuff to fit sigmoid to the accuracy calculations\n",
      "from scipy.optimize import curve_fit\n",
      "\n",
      "def calc_performance(outcomes):\n",
      "    good_responses = outcomes[outcomes!=-1]\n",
      "    return good_responses.sum()/len(good_responses)\n",
      "\n",
      "def sigmoid(x, x_0, A, b):\n",
      "    return A/(1+np.exp(-b*(x + x_0)))"
     ],
     "language": "python",
     "metadata": {},
     "outputs": [],
     "prompt_number": 94
    },
    {
     "cell_type": "code",
     "collapsed": false,
     "input": [
      "accuracy = []\n",
      "temp = 0.5\n",
      "coeffs = np.linspace(0, 1, 30)\n",
      "stims = sim.random_stimuli(50)\n",
      "for c in coeffs:\n",
      "    sim.reset_sim()\n",
      "    sim.give_cue('color')\n",
      "    net = sim.Sim.network\n",
      "    net.W = c*sim.constants.W_clr + (1-c)*sim.constants.W_wrd\n",
      "    \n",
      "    # de-meanify the W matrix \n",
      "    net.W = net.W - 0.5*np.tile(net.W.mean(axis=0), (16,1))\n",
      "    \n",
      "    for word, color in stims:\n",
      "        attempts = 0\n",
      "        response, outcome = sim.run_trial(word, color, net_iters=30, net_temp=temp)\n",
      "        # If the response is a spurious state, outcome = -1\n",
      "        while outcome == -1:\n",
      "            response, outcome = sim.run_trial(word, color, net_iters=30, net_temp=temp)\n",
      "            attempts += 1\n",
      "    \n",
      "    accuracy.append(calc_performance(np.array(sim.Sim.outcome)))\n",
      "\n",
      "accs = np.array(accuracy)\n",
      "accs, coeffs = accs[~np.isnan(accs)], coeffs[~np.isnan(accs)]"
     ],
     "language": "python",
     "metadata": {},
     "outputs": [],
     "prompt_number": 99
    },
    {
     "cell_type": "code",
     "collapsed": false,
     "input": [
      "params, cov = curve_fit(sigmoid, coeffs, accs)\n",
      "x_0, A, b = params\n",
      "x = np.linspace(0,1,30)\n",
      "\n",
      "plot(coeffs, accs, 'o')\n",
      "plot(x, sigmoid(x, x_0, A, b))\n",
      "xlabel(\"Coefficient value\")\n",
      "ylabel(\"Accuracy\")"
     ],
     "language": "python",
     "metadata": {},
     "outputs": [
      {
       "output_type": "pyout",
       "prompt_number": 100,
       "text": [
        "<matplotlib.text.Text at 0x1085d5610>"
       ]
      },
      {
       "output_type": "display_data",
       "png": "[encoded data removed]"
      }
     ],
     "prompt_number": 100
    },
    {
     "cell_type": "markdown",
     "metadata": {},
     "source": [
      "We get a nice transition as the color weight matrix is ramped up.  The temperature of the network controls how abrupt the transition is.  Lower temperatures make it step-like, while higher temperatures squishes flatter."
     ]
    }
   ],
   "metadata": {}
  }
 ]
}